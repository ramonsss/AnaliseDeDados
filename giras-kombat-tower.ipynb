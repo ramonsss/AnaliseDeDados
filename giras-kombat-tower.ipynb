{
  "cells": [
    {
      "cell_type": "markdown",
      "metadata": {
        "id": "_gYszWzLwIh6"
      },
      "source": [
        "# Kombat tower: análise de dados com pandas\n",
        "\n",
        "<img src=\"https://i.ytimg.com/vi/LzT2Q5hIh2U/hqdefault.jpg\" height=\"200\"/>"
      ]
    },
    {
      "cell_type": "markdown",
      "metadata": {
        "id": "12qIoVq-wmxD"
      },
      "source": [
        "# Round  1️⃣ - importando e explorando o dataset, fight!"
      ]
    },
    {
      "cell_type": "markdown",
      "metadata": {
        "id": "veRDNAqqw8zh"
      },
      "source": [
        "### Importe as bibliotecas necessárias"
      ]
    },
    {
      "cell_type": "code",
      "execution_count": 28,
      "metadata": {
        "id": "Vj1iE8tO5S8G"
      },
      "outputs": [],
      "source": [
        "# from google.colab import files\n",
        "import pandas as pd\n",
        "import seaborn as sns\n",
        "import matplotlib.pyplot as plt"
      ]
    },
    {
      "cell_type": "markdown",
      "metadata": {
        "id": "Xg7B2u0c5NDP"
      },
      "source": [
        "### Importe o arquivo `.csv` para o ambiente do google colab"
      ]
    },
    {
      "cell_type": "code",
      "execution_count": null,
      "metadata": {
        "id": "dlQqqZLp5Si2"
      },
      "outputs": [],
      "source": []
    },
    {
      "cell_type": "markdown",
      "metadata": {
        "id": "X_c1kDpp5OLH"
      },
      "source": [
        "### Use o `pandas` para carregar o dataset"
      ]
    },
    {
      "cell_type": "code",
      "execution_count": 3,
      "metadata": {
        "id": "54vHQQIS5R2U"
      },
      "outputs": [],
      "source": [
        "df = pd.read_csv(\"machine1.csv\")"
      ]
    },
    {
      "cell_type": "markdown",
      "metadata": {
        "id": "-itqvZjp5PDi"
      },
      "source": [
        "### Exiba as cinco primeiras linhas do dataset com `head()`"
      ]
    },
    {
      "cell_type": "code",
      "execution_count": 8,
      "metadata": {
        "id": "WmAY0qCM5SOi"
      },
      "outputs": [
        {
          "data": {
            "text/html": [
              "<div>\n",
              "<style scoped>\n",
              "    .dataframe tbody tr th:only-of-type {\n",
              "        vertical-align: middle;\n",
              "    }\n",
              "\n",
              "    .dataframe tbody tr th {\n",
              "        vertical-align: top;\n",
              "    }\n",
              "\n",
              "    .dataframe thead th {\n",
              "        text-align: right;\n",
              "    }\n",
              "</style>\n",
              "<table border=\"1\" class=\"dataframe\">\n",
              "  <thead>\n",
              "    <tr style=\"text-align: right;\">\n",
              "      <th></th>\n",
              "      <th>date</th>\n",
              "      <th>datetime</th>\n",
              "      <th>cash_type</th>\n",
              "      <th>card</th>\n",
              "      <th>money</th>\n",
              "      <th>coffee_name</th>\n",
              "    </tr>\n",
              "  </thead>\n",
              "  <tbody>\n",
              "    <tr>\n",
              "      <th>0</th>\n",
              "      <td>2024-03-01</td>\n",
              "      <td>2024-03-01 10:15:50.520</td>\n",
              "      <td>card</td>\n",
              "      <td>ANON-0000-0000-0001</td>\n",
              "      <td>38.7</td>\n",
              "      <td>Latte</td>\n",
              "    </tr>\n",
              "    <tr>\n",
              "      <th>1</th>\n",
              "      <td>2024-03-01</td>\n",
              "      <td>2024-03-01 12:19:22.539</td>\n",
              "      <td>card</td>\n",
              "      <td>ANON-0000-0000-0002</td>\n",
              "      <td>38.7</td>\n",
              "      <td>Hot Chocolate</td>\n",
              "    </tr>\n",
              "    <tr>\n",
              "      <th>2</th>\n",
              "      <td>2024-03-01</td>\n",
              "      <td>2024-03-01 12:20:18.089</td>\n",
              "      <td>card</td>\n",
              "      <td>ANON-0000-0000-0002</td>\n",
              "      <td>38.7</td>\n",
              "      <td>Hot Chocolate</td>\n",
              "    </tr>\n",
              "    <tr>\n",
              "      <th>3</th>\n",
              "      <td>2024-03-01</td>\n",
              "      <td>2024-03-01 13:46:33.006</td>\n",
              "      <td>card</td>\n",
              "      <td>ANON-0000-0000-0003</td>\n",
              "      <td>28.9</td>\n",
              "      <td>Americano</td>\n",
              "    </tr>\n",
              "    <tr>\n",
              "      <th>4</th>\n",
              "      <td>2024-03-01</td>\n",
              "      <td>2024-03-01 13:48:14.626</td>\n",
              "      <td>card</td>\n",
              "      <td>ANON-0000-0000-0004</td>\n",
              "      <td>38.7</td>\n",
              "      <td>Latte</td>\n",
              "    </tr>\n",
              "  </tbody>\n",
              "</table>\n",
              "</div>"
            ],
            "text/plain": [
              "         date                 datetime cash_type                 card  money  \\\n",
              "0  2024-03-01  2024-03-01 10:15:50.520      card  ANON-0000-0000-0001   38.7   \n",
              "1  2024-03-01  2024-03-01 12:19:22.539      card  ANON-0000-0000-0002   38.7   \n",
              "2  2024-03-01  2024-03-01 12:20:18.089      card  ANON-0000-0000-0002   38.7   \n",
              "3  2024-03-01  2024-03-01 13:46:33.006      card  ANON-0000-0000-0003   28.9   \n",
              "4  2024-03-01  2024-03-01 13:48:14.626      card  ANON-0000-0000-0004   38.7   \n",
              "\n",
              "     coffee_name  \n",
              "0          Latte  \n",
              "1  Hot Chocolate  \n",
              "2  Hot Chocolate  \n",
              "3      Americano  \n",
              "4          Latte  "
            ]
          },
          "execution_count": 8,
          "metadata": {},
          "output_type": "execute_result"
        }
      ],
      "source": [
        "df.head()"
      ]
    },
    {
      "cell_type": "markdown",
      "metadata": {
        "id": "nXD-vUtB5P79"
      },
      "source": [
        "### Exiba o número total de linhas e colunas do dataset"
      ]
    },
    {
      "cell_type": "code",
      "execution_count": 9,
      "metadata": {
        "id": "kjqbALOk5RY4"
      },
      "outputs": [
        {
          "data": {
            "text/html": [
              "<div>\n",
              "<style scoped>\n",
              "    .dataframe tbody tr th:only-of-type {\n",
              "        vertical-align: middle;\n",
              "    }\n",
              "\n",
              "    .dataframe tbody tr th {\n",
              "        vertical-align: top;\n",
              "    }\n",
              "\n",
              "    .dataframe thead th {\n",
              "        text-align: right;\n",
              "    }\n",
              "</style>\n",
              "<table border=\"1\" class=\"dataframe\">\n",
              "  <thead>\n",
              "    <tr style=\"text-align: right;\">\n",
              "      <th></th>\n",
              "      <th>date</th>\n",
              "      <th>datetime</th>\n",
              "      <th>cash_type</th>\n",
              "      <th>card</th>\n",
              "      <th>money</th>\n",
              "      <th>coffee_name</th>\n",
              "    </tr>\n",
              "  </thead>\n",
              "  <tbody>\n",
              "    <tr>\n",
              "      <th>0</th>\n",
              "      <td>2024-03-01</td>\n",
              "      <td>2024-03-01 10:15:50.520</td>\n",
              "      <td>card</td>\n",
              "      <td>ANON-0000-0000-0001</td>\n",
              "      <td>38.70</td>\n",
              "      <td>Latte</td>\n",
              "    </tr>\n",
              "    <tr>\n",
              "      <th>1</th>\n",
              "      <td>2024-03-01</td>\n",
              "      <td>2024-03-01 12:19:22.539</td>\n",
              "      <td>card</td>\n",
              "      <td>ANON-0000-0000-0002</td>\n",
              "      <td>38.70</td>\n",
              "      <td>Hot Chocolate</td>\n",
              "    </tr>\n",
              "    <tr>\n",
              "      <th>2</th>\n",
              "      <td>2024-03-01</td>\n",
              "      <td>2024-03-01 12:20:18.089</td>\n",
              "      <td>card</td>\n",
              "      <td>ANON-0000-0000-0002</td>\n",
              "      <td>38.70</td>\n",
              "      <td>Hot Chocolate</td>\n",
              "    </tr>\n",
              "    <tr>\n",
              "      <th>3</th>\n",
              "      <td>2024-03-01</td>\n",
              "      <td>2024-03-01 13:46:33.006</td>\n",
              "      <td>card</td>\n",
              "      <td>ANON-0000-0000-0003</td>\n",
              "      <td>28.90</td>\n",
              "      <td>Americano</td>\n",
              "    </tr>\n",
              "    <tr>\n",
              "      <th>4</th>\n",
              "      <td>2024-03-01</td>\n",
              "      <td>2024-03-01 13:48:14.626</td>\n",
              "      <td>card</td>\n",
              "      <td>ANON-0000-0000-0004</td>\n",
              "      <td>38.70</td>\n",
              "      <td>Latte</td>\n",
              "    </tr>\n",
              "    <tr>\n",
              "      <th>...</th>\n",
              "      <td>...</td>\n",
              "      <td>...</td>\n",
              "      <td>...</td>\n",
              "      <td>...</td>\n",
              "      <td>...</td>\n",
              "      <td>...</td>\n",
              "    </tr>\n",
              "    <tr>\n",
              "      <th>3631</th>\n",
              "      <td>2025-03-23</td>\n",
              "      <td>2025-03-23 10:34:54.894</td>\n",
              "      <td>card</td>\n",
              "      <td>ANON-0000-0000-1158</td>\n",
              "      <td>35.76</td>\n",
              "      <td>Cappuccino</td>\n",
              "    </tr>\n",
              "    <tr>\n",
              "      <th>3632</th>\n",
              "      <td>2025-03-23</td>\n",
              "      <td>2025-03-23 14:43:37.362</td>\n",
              "      <td>card</td>\n",
              "      <td>ANON-0000-0000-1315</td>\n",
              "      <td>35.76</td>\n",
              "      <td>Cocoa</td>\n",
              "    </tr>\n",
              "    <tr>\n",
              "      <th>3633</th>\n",
              "      <td>2025-03-23</td>\n",
              "      <td>2025-03-23 14:44:16.864</td>\n",
              "      <td>card</td>\n",
              "      <td>ANON-0000-0000-1315</td>\n",
              "      <td>35.76</td>\n",
              "      <td>Cocoa</td>\n",
              "    </tr>\n",
              "    <tr>\n",
              "      <th>3634</th>\n",
              "      <td>2025-03-23</td>\n",
              "      <td>2025-03-23 15:47:28.723</td>\n",
              "      <td>card</td>\n",
              "      <td>ANON-0000-0000-1316</td>\n",
              "      <td>25.96</td>\n",
              "      <td>Americano</td>\n",
              "    </tr>\n",
              "    <tr>\n",
              "      <th>3635</th>\n",
              "      <td>2025-03-23</td>\n",
              "      <td>2025-03-23 18:11:38.635</td>\n",
              "      <td>card</td>\n",
              "      <td>ANON-0000-0000-1275</td>\n",
              "      <td>35.76</td>\n",
              "      <td>Latte</td>\n",
              "    </tr>\n",
              "  </tbody>\n",
              "</table>\n",
              "<p>3636 rows × 6 columns</p>\n",
              "</div>"
            ],
            "text/plain": [
              "            date                 datetime cash_type                 card  \\\n",
              "0     2024-03-01  2024-03-01 10:15:50.520      card  ANON-0000-0000-0001   \n",
              "1     2024-03-01  2024-03-01 12:19:22.539      card  ANON-0000-0000-0002   \n",
              "2     2024-03-01  2024-03-01 12:20:18.089      card  ANON-0000-0000-0002   \n",
              "3     2024-03-01  2024-03-01 13:46:33.006      card  ANON-0000-0000-0003   \n",
              "4     2024-03-01  2024-03-01 13:48:14.626      card  ANON-0000-0000-0004   \n",
              "...          ...                      ...       ...                  ...   \n",
              "3631  2025-03-23  2025-03-23 10:34:54.894      card  ANON-0000-0000-1158   \n",
              "3632  2025-03-23  2025-03-23 14:43:37.362      card  ANON-0000-0000-1315   \n",
              "3633  2025-03-23  2025-03-23 14:44:16.864      card  ANON-0000-0000-1315   \n",
              "3634  2025-03-23  2025-03-23 15:47:28.723      card  ANON-0000-0000-1316   \n",
              "3635  2025-03-23  2025-03-23 18:11:38.635      card  ANON-0000-0000-1275   \n",
              "\n",
              "      money    coffee_name  \n",
              "0     38.70          Latte  \n",
              "1     38.70  Hot Chocolate  \n",
              "2     38.70  Hot Chocolate  \n",
              "3     28.90      Americano  \n",
              "4     38.70          Latte  \n",
              "...     ...            ...  \n",
              "3631  35.76     Cappuccino  \n",
              "3632  35.76          Cocoa  \n",
              "3633  35.76          Cocoa  \n",
              "3634  25.96      Americano  \n",
              "3635  35.76          Latte  \n",
              "\n",
              "[3636 rows x 6 columns]"
            ]
          },
          "execution_count": 9,
          "metadata": {},
          "output_type": "execute_result"
        }
      ],
      "source": [
        "df"
      ]
    },
    {
      "cell_type": "markdown",
      "metadata": {
        "id": "4j0TWBFj5Qyl"
      },
      "source": [
        "### Utilize o método `info()` para obter um resumo das informações do dataset"
      ]
    },
    {
      "cell_type": "code",
      "execution_count": 10,
      "metadata": {
        "id": "F7XFLhHmyK7X"
      },
      "outputs": [
        {
          "name": "stdout",
          "output_type": "stream",
          "text": [
            "<class 'pandas.core.frame.DataFrame'>\n",
            "RangeIndex: 3636 entries, 0 to 3635\n",
            "Data columns (total 6 columns):\n",
            " #   Column       Non-Null Count  Dtype  \n",
            "---  ------       --------------  -----  \n",
            " 0   date         3636 non-null   object \n",
            " 1   datetime     3636 non-null   object \n",
            " 2   cash_type    3636 non-null   object \n",
            " 3   card         3547 non-null   object \n",
            " 4   money        3636 non-null   float64\n",
            " 5   coffee_name  3636 non-null   object \n",
            "dtypes: float64(1), object(5)\n",
            "memory usage: 170.6+ KB\n"
          ]
        }
      ],
      "source": [
        "df.info()"
      ]
    },
    {
      "cell_type": "markdown",
      "metadata": {
        "id": "gpXFaBNCwoeh"
      },
      "source": [
        "# Round 2️⃣ - identificando os tipos de variáveis, fight!"
      ]
    },
    {
      "cell_type": "markdown",
      "metadata": {
        "id": "101t0Rywxhug"
      },
      "source": [
        "### Identifique as variáveis `qualitativas nominais`, se houverem"
      ]
    },
    {
      "cell_type": "code",
      "execution_count": 14,
      "metadata": {
        "id": "6ZPyQNiN5EXD"
      },
      "outputs": [
        {
          "name": "stdout",
          "output_type": "stream",
          "text": [
            "['cash_type', 'card', 'coffee_name']\n"
          ]
        }
      ],
      "source": [
        "nominais = df.select_dtypes(include=['object', 'string']).columns\n",
        "nominais = [col for col in nominais if 'date' not in col.lower()]\n",
        "print(nominais)"
      ]
    },
    {
      "cell_type": "markdown",
      "metadata": {
        "id": "QvWjjJI65EhL"
      },
      "source": [
        "### Identifique as variáveis `qualitativas ordinais`, se houverem"
      ]
    },
    {
      "cell_type": "code",
      "execution_count": null,
      "metadata": {
        "id": "t_i6hFQE5Fij"
      },
      "outputs": [],
      "source": [
        "# nao possui"
      ]
    },
    {
      "cell_type": "markdown",
      "metadata": {
        "id": "ldMvBHWr5Fq3"
      },
      "source": [
        "### Identifique as variáveis `quantitativas discretas`, se houverem"
      ]
    },
    {
      "cell_type": "code",
      "execution_count": null,
      "metadata": {
        "id": "YzZ83Pbo5G0l"
      },
      "outputs": [],
      "source": [
        "# nao possui"
      ]
    },
    {
      "cell_type": "markdown",
      "metadata": {
        "id": "oautNffO5G6z"
      },
      "source": [
        "### Identifique as variáveis `quantitativas contínuas`, se houverem"
      ]
    },
    {
      "cell_type": "code",
      "execution_count": 15,
      "metadata": {
        "id": "tsIp5XmayKXL"
      },
      "outputs": [
        {
          "name": "stdout",
          "output_type": "stream",
          "text": [
            "Index(['money'], dtype='object')\n"
          ]
        }
      ],
      "source": [
        "quant_continuas = df.select_dtypes(include='float').columns\n",
        "print(quant_continuas)"
      ]
    },
    {
      "cell_type": "markdown",
      "metadata": {
        "id": "TNt2yFD6wq6K"
      },
      "source": [
        "# Round 3️⃣ - manipulando os dados, fight!"
      ]
    },
    {
      "cell_type": "markdown",
      "metadata": {
        "id": "Sp5sWElM46Xb"
      },
      "source": [
        "### Converta a coluna `datetime` de `object` para o tipo `datetime`"
      ]
    },
    {
      "cell_type": "code",
      "execution_count": 20,
      "metadata": {
        "id": "U4i_VD_r468r"
      },
      "outputs": [],
      "source": [
        "df['datetime'] = pd.to_datetime(df['datetime'])"
      ]
    },
    {
      "cell_type": "markdown",
      "metadata": {
        "id": "dsNNMZ-T48Rl"
      },
      "source": [
        "### Verifique e corrija outros possíveis erros de tipo no dataset, se houverem"
      ]
    },
    {
      "cell_type": "code",
      "execution_count": 21,
      "metadata": {
        "id": "OQ_e0Cg74_Va"
      },
      "outputs": [],
      "source": [
        "df['date'] = pd.to_datetime(df['date'])"
      ]
    },
    {
      "cell_type": "markdown",
      "metadata": {
        "id": "9gypzTPUyMSo"
      },
      "source": [
        "### Extraia `time`, `date`, `month`, `week` da coluna datetime e crie novas colunas com essas informações"
      ]
    },
    {
      "cell_type": "code",
      "execution_count": null,
      "metadata": {
        "id": "yQpZAIMQySyw"
      },
      "outputs": [
        {
          "data": {
            "text/html": [
              "<div>\n",
              "<style scoped>\n",
              "    .dataframe tbody tr th:only-of-type {\n",
              "        vertical-align: middle;\n",
              "    }\n",
              "\n",
              "    .dataframe tbody tr th {\n",
              "        vertical-align: top;\n",
              "    }\n",
              "\n",
              "    .dataframe thead th {\n",
              "        text-align: right;\n",
              "    }\n",
              "</style>\n",
              "<table border=\"1\" class=\"dataframe\">\n",
              "  <thead>\n",
              "    <tr style=\"text-align: right;\">\n",
              "      <th></th>\n",
              "      <th>date</th>\n",
              "      <th>datetime</th>\n",
              "      <th>cash_type</th>\n",
              "      <th>card</th>\n",
              "      <th>money</th>\n",
              "      <th>coffee_name</th>\n",
              "      <th>time</th>\n",
              "      <th>month</th>\n",
              "      <th>week</th>\n",
              "    </tr>\n",
              "  </thead>\n",
              "  <tbody>\n",
              "    <tr>\n",
              "      <th>0</th>\n",
              "      <td>2024-03-01</td>\n",
              "      <td>2024-03-01 10:15:50.520</td>\n",
              "      <td>card</td>\n",
              "      <td>ANON-0000-0000-0001</td>\n",
              "      <td>38.7</td>\n",
              "      <td>Latte</td>\n",
              "      <td>10:15:50.520000</td>\n",
              "      <td>3</td>\n",
              "      <td>9</td>\n",
              "    </tr>\n",
              "    <tr>\n",
              "      <th>1</th>\n",
              "      <td>2024-03-01</td>\n",
              "      <td>2024-03-01 12:19:22.539</td>\n",
              "      <td>card</td>\n",
              "      <td>ANON-0000-0000-0002</td>\n",
              "      <td>38.7</td>\n",
              "      <td>Hot Chocolate</td>\n",
              "      <td>12:19:22.539000</td>\n",
              "      <td>3</td>\n",
              "      <td>9</td>\n",
              "    </tr>\n",
              "    <tr>\n",
              "      <th>2</th>\n",
              "      <td>2024-03-01</td>\n",
              "      <td>2024-03-01 12:20:18.089</td>\n",
              "      <td>card</td>\n",
              "      <td>ANON-0000-0000-0002</td>\n",
              "      <td>38.7</td>\n",
              "      <td>Hot Chocolate</td>\n",
              "      <td>12:20:18.089000</td>\n",
              "      <td>3</td>\n",
              "      <td>9</td>\n",
              "    </tr>\n",
              "    <tr>\n",
              "      <th>3</th>\n",
              "      <td>2024-03-01</td>\n",
              "      <td>2024-03-01 13:46:33.006</td>\n",
              "      <td>card</td>\n",
              "      <td>ANON-0000-0000-0003</td>\n",
              "      <td>28.9</td>\n",
              "      <td>Americano</td>\n",
              "      <td>13:46:33.006000</td>\n",
              "      <td>3</td>\n",
              "      <td>9</td>\n",
              "    </tr>\n",
              "    <tr>\n",
              "      <th>4</th>\n",
              "      <td>2024-03-01</td>\n",
              "      <td>2024-03-01 13:48:14.626</td>\n",
              "      <td>card</td>\n",
              "      <td>ANON-0000-0000-0004</td>\n",
              "      <td>38.7</td>\n",
              "      <td>Latte</td>\n",
              "      <td>13:48:14.626000</td>\n",
              "      <td>3</td>\n",
              "      <td>9</td>\n",
              "    </tr>\n",
              "  </tbody>\n",
              "</table>\n",
              "</div>"
            ],
            "text/plain": [
              "         date                datetime cash_type                 card  money  \\\n",
              "0  2024-03-01 2024-03-01 10:15:50.520      card  ANON-0000-0000-0001   38.7   \n",
              "1  2024-03-01 2024-03-01 12:19:22.539      card  ANON-0000-0000-0002   38.7   \n",
              "2  2024-03-01 2024-03-01 12:20:18.089      card  ANON-0000-0000-0002   38.7   \n",
              "3  2024-03-01 2024-03-01 13:46:33.006      card  ANON-0000-0000-0003   28.9   \n",
              "4  2024-03-01 2024-03-01 13:48:14.626      card  ANON-0000-0000-0004   38.7   \n",
              "\n",
              "     coffee_name             time  month  week  \n",
              "0          Latte  10:15:50.520000      3     9  \n",
              "1  Hot Chocolate  12:19:22.539000      3     9  \n",
              "2  Hot Chocolate  12:20:18.089000      3     9  \n",
              "3      Americano  13:46:33.006000      3     9  \n",
              "4          Latte  13:48:14.626000      3     9  "
            ]
          },
          "execution_count": 24,
          "metadata": {},
          "output_type": "execute_result"
        }
      ],
      "source": [
        "df['time'] = df['datetime'].dt.time\n",
        "df['date'] = df['datetime'].dt.date\n",
        "df['month'] = df['datetime'].dt.month\n",
        "df['week'] = df['datetime'].dt.isocalendar().week"
      ]
    },
    {
      "cell_type": "markdown",
      "metadata": {
        "id": "3ebR-LSAwrfs"
      },
      "source": [
        "# Round  4️⃣ - análisando e explorando os dados, fight!"
      ]
    },
    {
      "cell_type": "markdown",
      "metadata": {
        "id": "BUXXbCf4FW17"
      },
      "source": [
        "## Choose your destiny: escolha 3 perguntas para responder, dentre as opções disponíveis abaixo. Plote um gráfico à sua escolha para visualização."
      ]
    },
    {
      "cell_type": "markdown",
      "metadata": {
        "id": "68EzAS9uFaHQ"
      },
      "source": [
        "### Identifique o método de pagamento mais escolhido pelos clientes"
      ]
    },
    {
      "cell_type": "code",
      "execution_count": 29,
      "metadata": {
        "id": "ok9oNSxY4ywQ"
      },
      "outputs": [
        {
          "data": {
            "image/png": "[encoded data removed]",
            "text/plain": [
              "<Figure size 1400x1000 with 1 Axes>"
            ]
          },
          "metadata": {},
          "output_type": "display_data"
        }
      ],
      "source": [
        "fig, ax = plt.subplots(figsize = (14,10))\n",
        "sns.countplot(data=df, x=\"cash_type\", ax=ax)\n",
        "\n",
        "plt.show()"
      ]
    },
    {
      "cell_type": "markdown",
      "metadata": {
        "id": "NfHS9cL6FdF-"
      },
      "source": [
        "### Descreva a distribuição dos tipos de pagamento escolhidos pelos clientes"
      ]
    },
    {
      "cell_type": "code",
      "execution_count": null,
      "metadata": {
        "id": "x_soMCYVFed7"
      },
      "outputs": [],
      "source": []
    },
    {
      "cell_type": "markdown",
      "metadata": {
        "id": "7ATIIk5tFei7"
      },
      "source": [
        "### Use a coluna `month`, que você criou, para determinar qual mês gerou mais lucro"
      ]
    },
    {
      "cell_type": "code",
      "execution_count": 30,
      "metadata": {
        "id": "daouekfnFguw"
      },
      "outputs": [
        {
          "data": {
            "image/png": "[encoded data removed]",
            "text/plain": [
              "<Figure size 1400x1000 with 1 Axes>"
            ]
          },
          "metadata": {},
          "output_type": "display_data"
        }
      ],
      "source": [
        "fig, ax = plt.subplots(figsize = (14,10))\n",
        "sns.countplot(data=df, x=\"month\", ax=ax)\n",
        "\n",
        "plt.show()"
      ]
    },
    {
      "cell_type": "markdown",
      "metadata": {
        "id": "YveGZfXPFg0N"
      },
      "source": [
        "### Determine qual café é o mais comprado pelos clientes"
      ]
    },
    {
      "cell_type": "code",
      "execution_count": 31,
      "metadata": {
        "id": "6PNz2pcPFia0"
      },
      "outputs": [
        {
          "data": {
            "image/png": "[encoded data removed]",
            "text/plain": [
              "<Figure size 1400x1000 with 1 Axes>"
            ]
          },
          "metadata": {},
          "output_type": "display_data"
        }
      ],
      "source": [
        "fig, ax = plt.subplots(figsize =(14,10))\n",
        "sns.countplot(data = df, x=\"coffee_name\",\n",
        "            order=[\"Latte\",\n",
        "                   \"Hot Chocolate\",\n",
        "                   \"Americano\",\n",
        "                   \"Americano with Milk\",\n",
        "                   \"Cocoa\",\n",
        "                   \"Cortado\",\n",
        "                   \"Espresso\",\n",
        "                   \"Cappuccino\"],\n",
        "            ax=ax)\n",
        "ax.set_title(\"Favoritos da Casa\")\n",
        "plt.show()"
      ]
    },
    {
      "cell_type": "markdown",
      "metadata": {
        "id": "h5IRlFfCFigS"
      },
      "source": [
        "### Encontre o lucro total gerado por cada tipo de café"
      ]
    },
    {
      "cell_type": "code",
      "execution_count": null,
      "metadata": {
        "id": "8JVtMGFjFkiP"
      },
      "outputs": [],
      "source": []
    },
    {
      "cell_type": "markdown",
      "metadata": {
        "id": "AR6sjjFJFkoO"
      },
      "source": [
        "### Identifique em quais meses o café mais popular ficou em primeiro lugar nas vendas"
      ]
    },
    {
      "cell_type": "code",
      "execution_count": null,
      "metadata": {
        "id": "YghHCqvyFlhQ"
      },
      "outputs": [],
      "source": []
    },
    {
      "cell_type": "markdown",
      "metadata": {
        "id": "J-SWK1OpwsXr"
      },
      "source": [
        "# Round 5️⃣ - tratando dados, fight!"
      ]
    },
    {
      "cell_type": "markdown",
      "metadata": {
        "id": "UtF-WVTc4h29"
      },
      "source": [
        "### Verifique a necessidade de limpeza ou conversão na coluna `money`"
      ]
    },
    {
      "cell_type": "code",
      "execution_count": 32,
      "metadata": {
        "id": "aLDncZWo4gea"
      },
      "outputs": [
        {
          "name": "stdout",
          "output_type": "stream",
          "text": [
            "float64\n",
            "-------\n",
            "0\n"
          ]
        }
      ],
      "source": [
        "print(df['money'].dtype)\n",
        "\n",
        "print(\"-------\")\n",
        "\n",
        "print(df['money'].isna().sum())"
      ]
    },
    {
      "cell_type": "markdown",
      "metadata": {
        "id": "ljXJxvC-4kFX"
      },
      "source": [
        "### Decida qual medida de tendência central (moda, média, mediana) é a mais apropriada para substituir os valores faltantes, justifique sua resposta"
      ]
    },
    {
      "cell_type": "code",
      "execution_count": 33,
      "metadata": {
        "id": "69BlHpBi4ggM"
      },
      "outputs": [],
      "source": [
        "# mediana eh a mais apropriada porque nao eh afetada, usar a media poderia distorcer os dados se houver valores muito altos ou muitos baixos\n",
        "# a moda não faz sentido pq money eh continuo,\n",
        "# porem não existe nenhum valor nulo."
      ]
    },
    {
      "cell_type": "markdown",
      "metadata": {
        "id": "YQ4kaw0F4l8Z"
      },
      "source": [
        "### Substitua os valores faltantes considerando o tipo de café (imagina-se que a média de um tipo, é diferente da média de outro tipo, por exemplo)"
      ]
    },
    {
      "cell_type": "code",
      "execution_count": null,
      "metadata": {
        "id": "-fDJjDOr4giB"
      },
      "outputs": [
        {
          "name": "stdout",
          "output_type": "stream",
          "text": [
            "0\n"
          ]
        }
      ],
      "source": [
        "print(df['coffee_name'].isna().sum())\n",
        "\n",
        "# não possui valor nulo"
      ]
    },
    {
      "cell_type": "markdown",
      "metadata": {
        "id": "SUhzzESW4n43"
      },
      "source": [
        "### Verifique se houve mudança no lucro total gerado por cada tipo de café"
      ]
    },
    {
      "cell_type": "code",
      "execution_count": 36,
      "metadata": {
        "id": "P_Ni1h3L4gj1"
      },
      "outputs": [
        {
          "name": "stdout",
          "output_type": "stream",
          "text": [
            "coffee_name\n",
            "Americano              15062.26\n",
            "Americano with Milk    25269.12\n",
            "Cappuccino             18034.14\n",
            "Cocoa                   8678.16\n",
            "Cortado                 7534.86\n",
            "Espresso                2814.28\n",
            "Hot Chocolate          10172.46\n",
            "Latte                  27866.30\n",
            "Name: money, dtype: float64\n"
          ]
        }
      ],
      "source": [
        "total_por_cafe = df.groupby('coffee_name').money.sum()\n",
        "\n",
        "print(total_por_cafe)"
      ]
    },
    {
      "cell_type": "markdown",
      "metadata": {
        "id": "3Qa26TrLzXqx"
      },
      "source": [
        "### Plote um gráfico à sua escolha para visualizar a nova informação"
      ]
    },
    {
      "cell_type": "code",
      "execution_count": 40,
      "metadata": {
        "id": "zFF6kZQk00Mr"
      },
      "outputs": [
        {
          "data": {
            "image/png": "[encoded data removed]",
            "text/plain": [
              "<Figure size 1400x1000 with 1 Axes>"
            ]
          },
          "metadata": {},
          "output_type": "display_data"
        }
      ],
      "source": [
        "fig, ax = plt.subplots(figsize =(14,10))\n",
        "sns.barplot(x=total_por_cafe.index,\n",
        "            y=total_por_cafe.values,\n",
        "            order=[\"Latte\",\n",
        "                   \"Hot Chocolate\",\n",
        "                   \"Americano\",\n",
        "                   \"Americano with Milk\",\n",
        "                   \"Cocoa\",\n",
        "                   \"Cortado\",\n",
        "                   \"Espresso\",\n",
        "                   \"Cappuccino\"],\n",
        "            ax=ax)\n",
        "ax.set_title(\"Lucro total por tipo de café\")\n",
        "ax.set_xlabel(\"Tipo de Café\")\n",
        "ax.set_ylabel(\"Lucro Total (R$)\")\n",
        "plt.show()"
      ]
    },
    {
      "cell_type": "markdown",
      "metadata": {
        "id": "WLiW3G1ewsxM"
      },
      "source": [
        "# Round 6️⃣ - gerando insights, fight!"
      ]
    },
    {
      "cell_type": "markdown",
      "metadata": {
        "id": "2a0ECinvFtUR"
      },
      "source": [
        "## Choose your destiny: Escolha 3 perguntas para responder, dentre as opções disponíveis abaixo. Compartilhe suas observações, os insights obtidos e plote um gráfico à sua escolha para visualização."
      ]
    },
    {
      "cell_type": "markdown",
      "metadata": {
        "id": "r3enQVVaF31L"
      },
      "source": [
        "### Visualize a distribuição dos valores de vendas"
      ]
    },
    {
      "cell_type": "code",
      "execution_count": 41,
      "metadata": {
        "id": "6z5GB2nWF5yL"
      },
      "outputs": [
        {
          "data": {
            "image/png": "[encoded data removed]",
            "text/plain": [
              "<Figure size 1400x1000 with 1 Axes>"
            ]
          },
          "metadata": {},
          "output_type": "display_data"
        }
      ],
      "source": [
        "fig, ax = plt.subplots(figsize =(14,10))\n",
        "sns.barplot(x=total_por_cafe.index,\n",
        "            y=total_por_cafe.values,\n",
        "            order=[\"Latte\",\n",
        "                   \"Hot Chocolate\",\n",
        "                   \"Americano\",\n",
        "                   \"Americano with Milk\",\n",
        "                   \"Cocoa\",\n",
        "                   \"Cortado\",\n",
        "                   \"Espresso\",\n",
        "                   \"Cappuccino\"],\n",
        "            ax=ax)\n",
        "ax.set_title(\"Lucro total por tipo de café\")\n",
        "ax.set_xlabel(\"Tipo de Café\")\n",
        "ax.set_ylabel(\"Lucro Total (R$)\")\n",
        "plt.show()"
      ]
    },
    {
      "cell_type": "markdown",
      "metadata": {},
      "source": [
        "### o lucro total foi pro latte"
      ]
    },
    {
      "cell_type": "markdown",
      "metadata": {
        "id": "VNrLeGe5F54c"
      },
      "source": [
        "### Verifique se há sazonalidade nos dados"
      ]
    },
    {
      "cell_type": "code",
      "execution_count": 42,
      "metadata": {
        "id": "aaDGHHGPF7Pq"
      },
      "outputs": [
        {
          "name": "stderr",
          "output_type": "stream",
          "text": [
            "/tmp/ipykernel_10281/3424911325.py:6: FutureWarning: \n",
            "\n",
            "Passing `palette` without assigning `hue` is deprecated and will be removed in v0.14.0. Assign the `x` variable to `hue` and set `legend=False` for the same effect.\n",
            "\n",
            "  sns.barplot(\n"
          ]
        },
        {
          "data": {
            "image/png": "[encoded data removed]",
            "text/plain": [
              "<Figure size 1400x1000 with 1 Axes>"
            ]
          },
          "metadata": {},
          "output_type": "display_data"
        }
      ],
      "source": [
        "df['year_month'] = df['datetime'].dt.to_period('M')\n",
        "\n",
        "vendas_mensais = df.groupby('year_month')['money'].sum()\n",
        "\n",
        "fig, ax = plt.subplots(figsize=(14,10))\n",
        "sns.barplot(\n",
        "    x=vendas_mensais.index.astype(str),\n",
        "    y=vendas_mensais.values,\n",
        "    palette=\"viridis\",\n",
        "    ax=ax\n",
        ")\n",
        "\n",
        "ax.set_title(\"Sazonalidade das Vendas ao Longo do Tempo\")\n",
        "ax.set_xlabel(\"Mês/Ano\")\n",
        "ax.set_ylabel(\"Vendas Totais (R$)\")\n",
        "plt.xticks(rotation=45)\n",
        "plt.show()"
      ]
    },
    {
      "cell_type": "markdown",
      "metadata": {
        "id": "ljHYr3CWF7UW"
      },
      "source": [
        "### Visualize a proporção dos tipos de pagamento"
      ]
    },
    {
      "cell_type": "code",
      "execution_count": null,
      "metadata": {
        "id": "1S4M-xCqF8_Y"
      },
      "outputs": [],
      "source": []
    },
    {
      "cell_type": "markdown",
      "metadata": {
        "id": "hG8VOW5oF9GL"
      },
      "source": [
        "### Realize a análise dos quartis, mediana e outliers"
      ]
    },
    {
      "cell_type": "code",
      "execution_count": null,
      "metadata": {
        "id": "vvYIrjf2F-Y8"
      },
      "outputs": [],
      "source": []
    },
    {
      "cell_type": "markdown",
      "metadata": {
        "id": "nwp5EcFqF-eL"
      },
      "source": [
        "### Realize a análise da dispersão dos dados"
      ]
    },
    {
      "cell_type": "code",
      "execution_count": 47,
      "metadata": {
        "id": "94oz7U9SGBsc"
      },
      "outputs": [
        {
          "data": {
            "image/png": "[encoded data removed]",
            "text/plain": [
              "<Figure size 1400x1000 with 1 Axes>"
            ]
          },
          "metadata": {},
          "output_type": "display_data"
        }
      ],
      "source": [
        "fig, ax = plt.subplots(figsize=(14,10))\n",
        "sns.boxplot(x=df['money'], color=\"lightblue\", ax=ax)\n",
        "ax.set_title(\"Análise de Dispersão dos Valores de Vendas\")\n",
        "ax.set_xlabel(\"Valor da Venda (R$)\")\n",
        "plt.show()"
      ]
    },
    {
      "cell_type": "markdown",
      "metadata": {
        "id": "UFfxJp8JGAuN"
      },
      "source": [
        "### Realize a análise do desvio padrão dos dados"
      ]
    },
    {
      "cell_type": "code",
      "execution_count": null,
      "metadata": {
        "id": "bh_dN8Fn4r9h"
      },
      "outputs": [],
      "source": []
    },
    {
      "cell_type": "markdown",
      "metadata": {
        "id": "GOaqWIMl7kPi"
      },
      "source": [
        "# You win! 🫵\n",
        "\n",
        "<img src=\"https://sydlexia.com/imagesandstuff/mk3/umk31506.png\" height=\"200\"/>"
      ]
    }
  ],
  "metadata": {
    "colab": {
      "provenance": []
    },
    "kernelspec": {
      "display_name": "Python 3",
      "name": "python3"
    },
    "language_info": {
      "codemirror_mode": {
        "name": "ipython",
        "version": 3
      },
      "file_extension": ".py",
      "mimetype": "text/x-python",
      "name": "python",
      "nbconvert_exporter": "python",
      "pygments_lexer": "ipython3",
      "version": "3.13.7"
    }
  },
  "nbformat": 4,
  "nbformat_minor": 0
}
